{
 "cells": [
  {
   "cell_type": "markdown",
   "metadata": {},
   "source": [
    "<!--NOTEBOOK_HEADER-->\n",
    "*This notebook contains material from [nbpages-testing-public](https://ndcbe.github.io/nbpages-testing-public);\n",
    "content is available [on Github](https://github.com/ndcbe/nbpages-testing-public.git).*\n"
   ]
  },
  {
   "cell_type": "markdown",
   "metadata": {},
   "source": [
    "<!--NAVIGATION-->\n",
    "| [Contents](toc.html) |<p><a href=\"https://colab.research.google.com/github/ndcbe/nbpages-testing-public/blob/master/docs/01.00-Testing-nbpages.ipynb\"> <img align=\"left\" src=\"https://colab.research.google.com/assets/colab-badge.svg\" alt=\"Open in Colab\" title=\"Open in Google Colaboratory\"></a><p><a href=\"https://ndcbe.github.io/nbpages-testing-public/01.00-Testing-nbpages.ipynb\"> <img align=\"left\" src=\"https://img.shields.io/badge/Github-Download-blue.svg\" alt=\"Download\" title=\"Download Notebook\"></a>"
   ]
  },
  {
   "cell_type": "markdown",
   "metadata": {
    "nbpages": {
     "level": 1,
     "link": "[1.0 Testing nbpages](https://ndcbe.github.io/nbpages-testing-public/01.00-Testing-nbpages.html#1.0-Testing-nbpages)",
     "section": "1.0 Testing nbpages"
    }
   },
   "source": [
    "# 1.0 Testing nbpages"
   ]
  },
  {
   "cell_type": "code",
   "execution_count": null,
   "metadata": {
    "nbpages": {
     "level": 1,
     "link": "[1.0 Testing nbpages](https://ndcbe.github.io/nbpages-testing-public/01.00-Testing-nbpages.html#1.0-Testing-nbpages)",
     "section": "1.0 Testing nbpages"
    }
   },
   "outputs": [],
   "source": []
  },
  {
   "cell_type": "markdown",
   "metadata": {},
   "source": [
    "<!--NAVIGATION-->\n",
    "| [Contents](toc.html) |<p><a href=\"https://colab.research.google.com/github/ndcbe/nbpages-testing-public/blob/master/docs/01.00-Testing-nbpages.ipynb\"> <img align=\"left\" src=\"https://colab.research.google.com/assets/colab-badge.svg\" alt=\"Open in Colab\" title=\"Open in Google Colaboratory\"></a><p><a href=\"https://ndcbe.github.io/nbpages-testing-public/01.00-Testing-nbpages.ipynb\"> <img align=\"left\" src=\"https://img.shields.io/badge/Github-Download-blue.svg\" alt=\"Download\" title=\"Download Notebook\"></a>"
   ]
  }
 ],
 "metadata": {
  "kernelspec": {
   "display_name": "Python 3",
   "language": "python",
   "name": "python3"
  },
  "language_info": {
   "codemirror_mode": {
    "name": "ipython",
    "version": 3
   },
   "file_extension": ".py",
   "mimetype": "text/x-python",
   "name": "python",
   "nbconvert_exporter": "python",
   "pygments_lexer": "ipython3",
   "version": "3.7.4"
  }
 },
 "nbformat": 4,
 "nbformat_minor": 2
}
